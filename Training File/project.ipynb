{
 "cells": [
  {
   "cell_type": "code",
   "execution_count": 1,
   "id": "fa8e1d37",
   "metadata": {},
   "outputs": [],
   "source": [
    "from keras.models import Sequential\n",
    "from keras.layers import Convolution2D, Flatten, Dense, MaxPooling2D\n",
    "from keras.preprocessing.image import ImageDataGenerator"
   ]
  },
  {
   "cell_type": "code",
   "execution_count": 2,
   "id": "c3cb225b",
   "metadata": {},
   "outputs": [],
   "source": [
    "train_datagen=ImageDataGenerator(horizontal_flip=True,rescale=1./255,zoom_range=0.2)"
   ]
  },
  {
   "cell_type": "code",
   "execution_count": 3,
   "id": "88e116d5",
   "metadata": {},
   "outputs": [],
   "source": [
    "test_datagen=ImageDataGenerator(rescale=1./255)"
   ]
  },
  {
   "cell_type": "code",
   "execution_count": 4,
   "id": "3376afbb",
   "metadata": {},
   "outputs": [
    {
     "name": "stdout",
     "output_type": "stream",
     "text": [
      "Found 351 images belonging to 4 classes.\n"
     ]
    }
   ],
   "source": [
    "X_train=train_datagen.flow_from_directory(\"Dataset/\",target_size=(128,128),class_mode='categorical',batch_size=4)"
   ]
  },
  {
   "cell_type": "code",
   "execution_count": 5,
   "id": "d69aa1f1",
   "metadata": {},
   "outputs": [
    {
     "name": "stdout",
     "output_type": "stream",
     "text": [
      "Found 351 images belonging to 4 classes.\n"
     ]
    }
   ],
   "source": [
    "X_test=test_datagen.flow_from_directory(\"Dataset/\",target_size=(128,128),class_mode='categorical',batch_size=4)"
   ]
  },
  {
   "cell_type": "code",
   "execution_count": 6,
   "id": "1c347e45",
   "metadata": {},
   "outputs": [],
   "source": [
    "from tensorflow.keras.models import Sequential"
   ]
  },
  {
   "cell_type": "code",
   "execution_count": 7,
   "id": "10a35c8d",
   "metadata": {},
   "outputs": [],
   "source": [
    "from tensorflow.keras.layers import Dense"
   ]
  },
  {
   "cell_type": "code",
   "execution_count": 8,
   "id": "9080cf10",
   "metadata": {},
   "outputs": [],
   "source": [
    "from tensorflow.keras.layers import Convolution2D"
   ]
  },
  {
   "cell_type": "code",
   "execution_count": 9,
   "id": "bb9effd1",
   "metadata": {},
   "outputs": [],
   "source": [
    "from tensorflow.keras.layers import MaxPooling2D"
   ]
  },
  {
   "cell_type": "code",
   "execution_count": 10,
   "id": "8e2dd17f",
   "metadata": {},
   "outputs": [],
   "source": [
    "from tensorflow.keras.layers import Flatten"
   ]
  },
  {
   "cell_type": "code",
   "execution_count": 11,
   "id": "71976052",
   "metadata": {},
   "outputs": [],
   "source": [
    "from tensorflow.keras.optimizers import Adam"
   ]
  },
  {
   "cell_type": "code",
   "execution_count": 12,
   "id": "4ed21cde",
   "metadata": {},
   "outputs": [],
   "source": [
    "model=Sequential()"
   ]
  },
  {
   "cell_type": "code",
   "execution_count": 13,
   "id": "07dfe03a",
   "metadata": {},
   "outputs": [],
   "source": [
    "model.add(Convolution2D(32,(3,3),input_shape=(128,128,3),activation='relu'))"
   ]
  },
  {
   "cell_type": "code",
   "execution_count": 14,
   "id": "96c1903f",
   "metadata": {},
   "outputs": [],
   "source": [
    "model.add(MaxPooling2D(pool_size=(2,2)))"
   ]
  },
  {
   "cell_type": "code",
   "execution_count": 15,
   "id": "03d3db3b",
   "metadata": {},
   "outputs": [],
   "source": [
    "model.add(Convolution2D(32,(3,3),activation='relu'))"
   ]
  },
  {
   "cell_type": "code",
   "execution_count": 16,
   "id": "6ee3ea7b",
   "metadata": {},
   "outputs": [],
   "source": [
    "model.add(MaxPooling2D(pool_size=(2,2)))"
   ]
  },
  {
   "cell_type": "code",
   "execution_count": 17,
   "id": "fcadbd08",
   "metadata": {},
   "outputs": [],
   "source": [
    "model.add(Flatten())"
   ]
  },
  {
   "cell_type": "code",
   "execution_count": 18,
   "id": "cc6b3c45",
   "metadata": {},
   "outputs": [
    {
     "name": "stdout",
     "output_type": "stream",
     "text": [
      "Model: \"sequential\"\n",
      "_________________________________________________________________\n",
      " Layer (type)                Output Shape              Param #   \n",
      "=================================================================\n",
      " conv2d (Conv2D)             (None, 126, 126, 32)      896       \n",
      "                                                                 \n",
      " max_pooling2d (MaxPooling2D  (None, 63, 63, 32)       0         \n",
      " )                                                               \n",
      "                                                                 \n",
      " conv2d_1 (Conv2D)           (None, 61, 61, 32)        9248      \n",
      "                                                                 \n",
      " max_pooling2d_1 (MaxPooling  (None, 30, 30, 32)       0         \n",
      " 2D)                                                             \n",
      "                                                                 \n",
      " flatten (Flatten)           (None, 28800)             0         \n",
      "                                                                 \n",
      "=================================================================\n",
      "Total params: 10,144\n",
      "Trainable params: 10,144\n",
      "Non-trainable params: 0\n",
      "_________________________________________________________________\n"
     ]
    }
   ],
   "source": [
    "model.summary()"
   ]
  },
  {
   "cell_type": "code",
   "execution_count": 19,
   "id": "9d04a6b9",
   "metadata": {},
   "outputs": [],
   "source": [
    "model.add(Dense(300,activation='relu'))"
   ]
  },
  {
   "cell_type": "code",
   "execution_count": 20,
   "id": "df4e8ae3",
   "metadata": {},
   "outputs": [],
   "source": [
    "model.add(Dense(150,activation='relu'))"
   ]
  },
  {
   "cell_type": "code",
   "execution_count": 21,
   "id": "daa615d2",
   "metadata": {},
   "outputs": [],
   "source": [
    "model.add(Dense(4,activation='softmax'))"
   ]
  },
  {
   "cell_type": "code",
   "execution_count": 22,
   "id": "8e28872c",
   "metadata": {},
   "outputs": [
    {
     "name": "stdout",
     "output_type": "stream",
     "text": [
      "Model: \"sequential\"\n",
      "_________________________________________________________________\n",
      " Layer (type)                Output Shape              Param #   \n",
      "=================================================================\n",
      " conv2d (Conv2D)             (None, 126, 126, 32)      896       \n",
      "                                                                 \n",
      " max_pooling2d (MaxPooling2D  (None, 63, 63, 32)       0         \n",
      " )                                                               \n",
      "                                                                 \n",
      " conv2d_1 (Conv2D)           (None, 61, 61, 32)        9248      \n",
      "                                                                 \n",
      " max_pooling2d_1 (MaxPooling  (None, 30, 30, 32)       0         \n",
      " 2D)                                                             \n",
      "                                                                 \n",
      " flatten (Flatten)           (None, 28800)             0         \n",
      "                                                                 \n",
      " dense (Dense)               (None, 300)               8640300   \n",
      "                                                                 \n",
      " dense_1 (Dense)             (None, 150)               45150     \n",
      "                                                                 \n",
      " dense_2 (Dense)             (None, 4)                 604       \n",
      "                                                                 \n",
      "=================================================================\n",
      "Total params: 8,696,198\n",
      "Trainable params: 8,696,198\n",
      "Non-trainable params: 0\n",
      "_________________________________________________________________\n"
     ]
    }
   ],
   "source": [
    "model.summary()"
   ]
  },
  {
   "cell_type": "code",
   "execution_count": 23,
   "id": "17485347",
   "metadata": {},
   "outputs": [],
   "source": [
    "model.compile(optimizer=\"adam\",loss=\"categorical_crossentropy\", metrics=['accuracy'])"
   ]
  },
  {
   "cell_type": "code",
   "execution_count": 24,
   "id": "fd50f67b",
   "metadata": {},
   "outputs": [
    {
     "name": "stderr",
     "output_type": "stream",
     "text": [
      "C:\\Users\\DELL\\AppData\\Local\\Temp\\ipykernel_8620\\568945700.py:1: UserWarning: `Model.fit_generator` is deprecated and will be removed in a future version. Please use `Model.fit`, which supports generators.\n",
      "  model.fit_generator(X_train,validation_data=X_test,epochs=30)\n"
     ]
    },
    {
     "name": "stdout",
     "output_type": "stream",
     "text": [
      "Epoch 1/30\n",
      "88/88 [==============================] - 41s 425ms/step - loss: 1.4076 - accuracy: 0.2735 - val_loss: 1.3227 - val_accuracy: 0.3846\n",
      "Epoch 2/30\n",
      "88/88 [==============================] - 37s 419ms/step - loss: 1.3531 - accuracy: 0.3134 - val_loss: 1.3092 - val_accuracy: 0.3476\n",
      "Epoch 3/30\n",
      "88/88 [==============================] - 35s 395ms/step - loss: 1.3557 - accuracy: 0.3105 - val_loss: 1.3378 - val_accuracy: 0.3162\n",
      "Epoch 4/30\n",
      "88/88 [==============================] - 31s 353ms/step - loss: 1.3389 - accuracy: 0.3134 - val_loss: 1.3132 - val_accuracy: 0.3276\n",
      "Epoch 5/30\n",
      "88/88 [==============================] - 31s 354ms/step - loss: 1.3287 - accuracy: 0.3134 - val_loss: 1.2698 - val_accuracy: 0.3789\n",
      "Epoch 6/30\n",
      "88/88 [==============================] - 31s 356ms/step - loss: 1.2987 - accuracy: 0.3761 - val_loss: 1.2576 - val_accuracy: 0.4160\n",
      "Epoch 7/30\n",
      "88/88 [==============================] - 38s 433ms/step - loss: 1.2773 - accuracy: 0.4017 - val_loss: 1.2447 - val_accuracy: 0.3732\n",
      "Epoch 8/30\n",
      "88/88 [==============================] - 43s 487ms/step - loss: 1.2938 - accuracy: 0.3647 - val_loss: 1.2083 - val_accuracy: 0.4274\n",
      "Epoch 9/30\n",
      "88/88 [==============================] - 52s 599ms/step - loss: 1.2612 - accuracy: 0.3875 - val_loss: 1.1353 - val_accuracy: 0.4957\n",
      "Epoch 10/30\n",
      "88/88 [==============================] - 35s 396ms/step - loss: 1.1817 - accuracy: 0.4387 - val_loss: 1.2133 - val_accuracy: 0.4530\n",
      "Epoch 11/30\n",
      "88/88 [==============================] - 35s 401ms/step - loss: 1.2249 - accuracy: 0.4330 - val_loss: 1.0722 - val_accuracy: 0.4872\n",
      "Epoch 12/30\n",
      "88/88 [==============================] - 32s 368ms/step - loss: 1.2318 - accuracy: 0.4160 - val_loss: 1.1385 - val_accuracy: 0.4929\n",
      "Epoch 13/30\n",
      "88/88 [==============================] - 31s 356ms/step - loss: 1.1937 - accuracy: 0.4330 - val_loss: 1.0521 - val_accuracy: 0.5670\n",
      "Epoch 14/30\n",
      "88/88 [==============================] - 33s 374ms/step - loss: 1.1016 - accuracy: 0.5157 - val_loss: 0.9948 - val_accuracy: 0.6068\n",
      "Epoch 15/30\n",
      "88/88 [==============================] - 33s 378ms/step - loss: 1.0280 - accuracy: 0.5442 - val_loss: 0.8444 - val_accuracy: 0.6638\n",
      "Epoch 16/30\n",
      "88/88 [==============================] - 31s 348ms/step - loss: 1.0394 - accuracy: 0.5442 - val_loss: 0.7753 - val_accuracy: 0.6980\n",
      "Epoch 17/30\n",
      "88/88 [==============================] - 31s 355ms/step - loss: 0.8573 - accuracy: 0.6410 - val_loss: 0.7042 - val_accuracy: 0.6923\n",
      "Epoch 18/30\n",
      "88/88 [==============================] - 31s 349ms/step - loss: 0.8651 - accuracy: 0.6211 - val_loss: 0.7053 - val_accuracy: 0.7407\n",
      "Epoch 19/30\n",
      "88/88 [==============================] - 32s 362ms/step - loss: 0.9021 - accuracy: 0.6752 - val_loss: 0.7129 - val_accuracy: 0.7037\n",
      "Epoch 20/30\n",
      "88/88 [==============================] - 31s 350ms/step - loss: 0.7785 - accuracy: 0.6610 - val_loss: 0.5554 - val_accuracy: 0.7949\n",
      "Epoch 21/30\n",
      "88/88 [==============================] - 30s 338ms/step - loss: 0.7358 - accuracy: 0.6809 - val_loss: 0.5145 - val_accuracy: 0.8091\n",
      "Epoch 22/30\n",
      "88/88 [==============================] - 33s 374ms/step - loss: 0.6797 - accuracy: 0.7464 - val_loss: 0.6995 - val_accuracy: 0.7607\n",
      "Epoch 23/30\n",
      "88/88 [==============================] - 34s 386ms/step - loss: 0.6644 - accuracy: 0.7208 - val_loss: 0.4901 - val_accuracy: 0.7977\n",
      "Epoch 24/30\n",
      "88/88 [==============================] - 31s 358ms/step - loss: 0.5925 - accuracy: 0.7607 - val_loss: 0.4443 - val_accuracy: 0.8348\n",
      "Epoch 25/30\n",
      "88/88 [==============================] - 32s 369ms/step - loss: 0.5314 - accuracy: 0.7806 - val_loss: 0.3952 - val_accuracy: 0.8433\n",
      "Epoch 26/30\n",
      "88/88 [==============================] - 33s 381ms/step - loss: 0.5822 - accuracy: 0.8034 - val_loss: 0.4222 - val_accuracy: 0.8262\n",
      "Epoch 27/30\n",
      "88/88 [==============================] - 33s 379ms/step - loss: 0.5606 - accuracy: 0.7635 - val_loss: 0.3631 - val_accuracy: 0.8519\n",
      "Epoch 28/30\n",
      "88/88 [==============================] - 33s 378ms/step - loss: 0.5202 - accuracy: 0.8034 - val_loss: 0.3630 - val_accuracy: 0.8775\n",
      "Epoch 29/30\n",
      "88/88 [==============================] - 32s 363ms/step - loss: 0.4789 - accuracy: 0.8063 - val_loss: 0.3707 - val_accuracy: 0.8547\n",
      "Epoch 30/30\n",
      "88/88 [==============================] - 34s 388ms/step - loss: 0.4862 - accuracy: 0.7863 - val_loss: 0.3129 - val_accuracy: 0.8832\n"
     ]
    },
    {
     "data": {
      "text/plain": [
       "<keras.callbacks.History at 0x2370042aaf0>"
      ]
     },
     "execution_count": 24,
     "metadata": {},
     "output_type": "execute_result"
    }
   ],
   "source": [
    "model.fit_generator(X_train,validation_data=X_test,epochs=30)"
   ]
  },
  {
   "cell_type": "code",
   "execution_count": 25,
   "id": "c647341d",
   "metadata": {},
   "outputs": [],
   "source": [
    "model.save('coall.h5')"
   ]
  },
  {
   "cell_type": "code",
   "execution_count": 26,
   "id": "10a60a51",
   "metadata": {},
   "outputs": [],
   "source": [
    "import numpy as np"
   ]
  },
  {
   "cell_type": "code",
   "execution_count": 27,
   "id": "2a5c1166",
   "metadata": {},
   "outputs": [],
   "source": [
    "from tensorflow.keras.preprocessing import image"
   ]
  },
  {
   "cell_type": "code",
   "execution_count": 28,
   "id": "8d58c917",
   "metadata": {},
   "outputs": [],
   "source": [
    "from tensorflow.keras.models import load_model\n",
    "model.load_weights('coall.h5')"
   ]
  },
  {
   "cell_type": "code",
   "execution_count": 29,
   "id": "dcf9cade",
   "metadata": {},
   "outputs": [
    {
     "data": {
      "text/plain": [
       "(128, 128, 3)"
      ]
     },
     "execution_count": 29,
     "metadata": {},
     "output_type": "execute_result"
    }
   ],
   "source": [
    "img=image.load_img(\"Dataset/Anthracite/68.jpg\",target_size=(128,128))\n",
    "x=image.img_to_array(img)\n",
    "x.shape"
   ]
  },
  {
   "cell_type": "code",
   "execution_count": 30,
   "id": "6ba58a50",
   "metadata": {},
   "outputs": [
    {
     "data": {
      "text/plain": [
       "(1, 128, 128, 3)"
      ]
     },
     "execution_count": 30,
     "metadata": {},
     "output_type": "execute_result"
    }
   ],
   "source": [
    "x=np.expand_dims(x,axis=0)\n",
    "x.shape"
   ]
  },
  {
   "cell_type": "code",
   "execution_count": 31,
   "id": "1412c332",
   "metadata": {},
   "outputs": [
    {
     "name": "stdout",
     "output_type": "stream",
     "text": [
      "1/1 [==============================] - 1s 851ms/step\n"
     ]
    },
    {
     "data": {
      "text/plain": [
       "array([[1., 0., 0., 0.]], dtype=float32)"
      ]
     },
     "execution_count": 31,
     "metadata": {},
     "output_type": "execute_result"
    }
   ],
   "source": [
    "prediction=model.predict(x)\n",
    "prediction"
   ]
  },
  {
   "cell_type": "code",
   "execution_count": 32,
   "id": "9ef58a54",
   "metadata": {},
   "outputs": [],
   "source": [
    "index=[\"Anthracite\",\"Bituminous\",\"Lignite\",\"Peat\"]"
   ]
  },
  {
   "cell_type": "code",
   "execution_count": 34,
   "id": "361b81cf",
   "metadata": {},
   "outputs": [
    {
     "data": {
      "text/plain": [
       "'Anthracite'"
      ]
     },
     "execution_count": 34,
     "metadata": {},
     "output_type": "execute_result"
    }
   ],
   "source": [
    "    result=str(np.array(index)[0])\n",
    "    result"
   ]
  },
  {
   "cell_type": "code",
   "execution_count": null,
   "id": "a4081c08",
   "metadata": {},
   "outputs": [],
   "source": []
  }
 ],
 "metadata": {
  "kernelspec": {
   "display_name": "Python 3 (ipykernel)",
   "language": "python",
   "name": "python3"
  },
  "language_info": {
   "codemirror_mode": {
    "name": "ipython",
    "version": 3
   },
   "file_extension": ".py",
   "mimetype": "text/x-python",
   "name": "python",
   "nbconvert_exporter": "python",
   "pygments_lexer": "ipython3",
   "version": "3.9.12"
  }
 },
 "nbformat": 4,
 "nbformat_minor": 5
}
